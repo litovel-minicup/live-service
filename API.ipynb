{
 "cells": [
  {
   "cell_type": "code",
   "execution_count": null,
   "metadata": {},
   "outputs": [],
   "source": [
    "import json\n",
    "d = lambda **kwargs: print(json.dumps(kwargs, indent=4))\n",
    "# client: chci dostávat změny k zápasu 4472\n",
    "d(\n",
    "    action='subscribe',\n",
    "    match=4472,\n",
    ")"
   ]
  },
  {
   "cell_type": "code",
   "execution_count": 13,
   "metadata": {},
   "outputs": [
    {
     "name": "stdout",
     "output_type": "stream",
     "text": [
      "{\n",
      "    \"match\": {\n",
      "        \"id\": 4472,\n",
      "        \"away_team_color\": \"#abc789\",\n",
      "        \"away_team_name\": \"TJ Sokol Brno\",\n",
      "        \"home_team_name\": \"Sigma kalkul\",\n",
      "        \"state\": \"init\",\n",
      "        \"second_half_start\": null,\n",
      "        \"home_team_color\": \"#ffde42\",\n",
      "        \"first_half_start\": 1521477410,\n",
      "        \"score\": [\n",
      "            0,\n",
      "            0\n",
      "        ]\n",
      "    },\n",
      "    \"action\": \"match\"\n",
      "}\n"
     ]
    }
   ],
   "source": [
    "# server: počáteční data zápasu po subscribe\n",
    "d(\n",
    "    action='match',\n",
    "    match=dict(\n",
    "        id=4472,\n",
    "        home_team_name='Sigma kalkul',\n",
    "        away_team_name='TJ Sokol Brno',\n",
    "        home_team_color='#ffde42',\n",
    "        away_team_color='#abc789',\n",
    "        first_half_start=1521477410,\n",
    "        second_half_start=None,\n",
    "        state='init',\n",
    "        score=[0, 0]\n",
    "    )\n",
    ")"
   ]
  },
  {
   "cell_type": "code",
   "execution_count": 14,
   "metadata": {},
   "outputs": [
    {
     "name": "stdout",
     "output_type": "stream",
     "text": [
      "{\n",
      "    \"match\": {\n",
      "        \"second_half_start\": null,\n",
      "        \"first_half_start\": 1521477890,\n",
      "        \"score\": [\n",
      "            0,\n",
      "            2\n",
      "        ],\n",
      "        \"state\": \"half_first\",\n",
      "        \"id\": 4472\n",
      "    },\n",
      "    \"action\": \"match\"\n",
      "}\n"
     ]
    }
   ],
   "source": [
    "# server: změna stavu zápasu\n",
    "d(\n",
    "    action='match',\n",
    "    match=dict(\n",
    "        id=4472,\n",
    "        first_half_start=1521477890,\n",
    "        second_half_start=None,\n",
    "        state='half_first',\n",
    "        score=[0, 2]\n",
    "    )\n",
    ")"
   ]
  }
 ],
 "metadata": {
  "name": "",
  "signature": "sha256:a5b5b00ea4672b709e04a12af4c79df4b99004e798fe34ad9e0ac4afb49d7fc6"
 },
 "nbformat": 4,
 "nbformat_minor": 0
}
